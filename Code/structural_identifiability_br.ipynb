{
 "cells": [
  {
   "cell_type": "code",
   "execution_count": 1,
   "id": "eb20974e",
   "metadata": {},
   "outputs": [],
   "source": [
    "### For first-time users, the StructuralIdentifiability package can be installed by the following command\n",
    "\n",
    "#using Pkg\n",
    "#Pkg.add(\"StructuralIdentifiability\")\n"
   ]
  },
  {
   "cell_type": "code",
   "execution_count": 2,
   "id": "fdfe63b2",
   "metadata": {},
   "outputs": [
    {
     "name": "stdout",
     "output_type": "stream",
     "text": [
      "Singular.jl, based on\n",
      "                     SINGULAR                               /\n",
      " A Computer Algebra System for Polynomial Computations     /  Singular.jl: 0.5.8\n",
      "                                                         0<   Singular   : 4.2.0p1\n",
      " by: W. Decker, G.-M. Greuel, G. Pfister, H. Schoenemann   \\\n",
      "FB Mathematik der Universitaet, D-67653 Kaiserslautern      \\\n",
      "     \n"
     ]
    }
   ],
   "source": [
    "using StructuralIdentifiability"
   ]
  },
  {
   "cell_type": "code",
   "execution_count": 3,
   "id": "c04a2e7d-a7c6-4688-b229-bfe0692bd86d",
   "metadata": {},
   "outputs": [
    {
     "data": {
      "text/plain": [
       "LogLevel(1)"
      ]
     },
     "execution_count": 3,
     "metadata": {},
     "output_type": "execute_result"
    }
   ],
   "source": [
    "#if you want to supress the Info blocks\n",
    "using Logging\n",
    "Logging.disable_logging(Logging.Info)"
   ]
  },
  {
   "cell_type": "code",
   "execution_count": 4,
   "id": "aea9ca8b-d87f-4e7a-b1b1-303b0b100d14",
   "metadata": {
    "tags": []
   },
   "outputs": [
    {
     "data": {
      "text/plain": [
       "v'(t) = I_ext - w(t) - v(t)^3 + v(t)\n",
       "w'(t) = (-w(t)*b - a + v(t))//tau\n",
       "y(t) = v(t)\n"
      ]
     },
     "execution_count": 4,
     "metadata": {},
     "output_type": "execute_result"
    }
   ],
   "source": [
    "#v known, no parameters fixed\n",
    "ode_br = @ODEmodel(\n",
    "\n",
    "    50=50.0, \n",
    "    # g_Na=0.04, \n",
    "    # g_Nac=3e-05, \n",
    "    # g_s=0.0009, \n",
    "    IstimAmplitude=0.5,\n",
    "    IstimEnd=50000.0, \n",
    "    IstimPeriod=1000.0, \n",
    "    IstimPulseDuration=1.0,\n",
    "    IstimStart=10.0, \n",
    "    C=0.01\n",
    "\n",
    "    # Expressions for the Sodium current component\n",
    "    i_Na = (g_Nac + g_Na * (m * m * m) * h * j) * (-E_Na + V),\n",
    "\n",
    "    # Expressions for the m gate component\n",
    "    alpha_m = (-47 - V) / (-1 + 0.009095277101695816 * exp(-0.1 * V)),\n",
    "    beta_m = 0.7095526727489909 *  exp(-0.056 * V),\n",
    "    m'(t) = (1 - m) * alpha_m - beta_m * m,\n",
    "\n",
    "    # Expressions for the h gate component\n",
    "    alpha_h = 5.497962438709065e-10 *  exp(-0.25 * V),\n",
    "    beta_h = 1.7 / (1 + 0.1580253208896478 *  exp(-0.082 * V)),\n",
    "    h'(t) = (1 - h) * alpha_h - beta_h * h,\n",
    "\n",
    "    # Expressions for the j gate component\n",
    "    alpha_j = (1.8690473007222892e-10 *  exp(-0.25 * V) / (1 + 1.6788275299956603e-07 *  exp(-0.2 * V))  ),\n",
    "    beta_j = 0.3 / (1 + 0.040762203978366204 *  exp(-0.1 * V)),\n",
    "    j'(t) = (1 - j) * alpha_j - beta_j * j,\n",
    "\n",
    "    # Expressions for the Slow inward current component\n",
    "    E_s = -82.3 - 13.0287 *  log(0.001 * Cai),\n",
    "    i_s = g_s * (-E_s + V) * d * f,\n",
    "    Cai'(t) = 7.000000000000001e-06 - 0.07 * Cai - 0.01 * i_s,\n",
    "\n",
    "    # Expressions for the d gate component\n",
    "    alpha_d = (\n",
    "        0.095\n",
    "        * math.exp(1 / 20 - V / 100)\n",
    "        / (1 + 1.4332881385696572 * math.exp(-0.07199424046076314 * V))\n",
    "    ),\n",
    "    beta_d = 0.07 * math.exp(-44 / 59 - V / 59) / (1 + math.exp(11 / 5 + V / 20)),\n",
    "    d'(t) = (1 - d) * alpha_d - beta_d * d,\n",
    "\n",
    "    # Expressions for the f gate component\n",
    "    alpha_f = (\n",
    "        0.012\n",
    "        * math.exp(-28 / 125 - V / 125)\n",
    "        / (1 + 66.5465065250986 * math.exp(0.14992503748125938 * V))\n",
    "    ),\n",
    "    beta_f = 0.0065 * math.exp(-3 / 5 - V / 50) / (1 + math.exp(-6 - V / 5)),\n",
    "    f'(t) = (1 - f) * alpha_f - beta_f * f,\n",
    "\n",
    "    # Expressions for the Time dependent outward current component\n",
    "    i_x1 = (\n",
    "        0.0019727757115328517\n",
    "        * (-1 + 21.75840239619708 * math.exp(0.04 * V))\n",
    "        * math.exp(-0.04 * V)\n",
    "        * x1\n",
    "    ),\n",
    "\n",
    "    # Expressions for the X1 gate component\n",
    "    alpha_x1 = (\n",
    "        0.031158410986342627\n",
    "        * math.exp(0.08264462809917356 * V)\n",
    "        / (1 + 17.41170806332765 * math.exp(0.05714285714285714 * V))\n",
    "    ),\n",
    "    beta_x1 = (\n",
    "        0.0003916464405623223\n",
    "        * math.exp(-0.05998800239952009 * V)\n",
    "        / (1 + math.exp(-4 / 5 - V / 25))\n",
    "    ),\n",
    "    x1'(t) = (1 - x1) * alpha_x1 - beta_x1 * x1\n",
    "\n",
    "    # Expressions for the Time independent outward current component\n",
    "    i_K1 = 0.0035 * (4.6000000000000005 + 0.2 * V) / (\n",
    "        1 - 0.39851904108451414 * math.exp(-0.04 * V)\n",
    "    ) + 0.0035 * (-4 + 119.85640018958804 * math.exp(0.04 * V)) / (\n",
    "        8.331137487687693 * math.exp(0.04 * V) + 69.4078518387552 * math.exp(0.08 * V)\n",
    "    ),\n",
    "\n",
    "    # Expressions for the Stimulus protocol component\n",
    "    Istim = (\n",
    "        IstimAmplitude\n",
    "        if t - IstimStart - IstimPeriod * math.floor((t - IstimStart) / IstimPeriod)\n",
    "        <= IstimPulseDuration\n",
    "        and t <= IstimEnd\n",
    "        and t >= IstimStart\n",
    "        else 0\n",
    "    ),\n",
    "    # IstimAmplitude=0.5, IstimEnd=50000.0, IstimPeriod=1000.0,\n",
    "    # IstimPulseDuration=1.0, IstimStart=10.0\n",
    "\n",
    "    # Expressions for the Membrane component\n",
    "    V'(t) = (-i_K1 - i_Na - i_s - i_x1 + Istim) / C,\n",
    "\n",
    "    y1(t) = m(t),\n",
    "    y2(t) = h(t),\n",
    "    y3(t) = j(t),\n",
    "    y4(t) = Cai(t),\n",
    "    y5(t) = d(t),\n",
    "    y6(t) = f(t),\n",
    "    y7(t) = x1(t),\n",
    "    y8(t) = V(t),\n",
    ")"
   ]
  },
  {
   "cell_type": "code",
   "execution_count": null,
   "id": "bdd74001",
   "metadata": {},
   "outputs": [],
   "source": [
    "#v known, no parameters fixed\n",
    "ode_br = @ODEmodel(\n",
    "    50=50, \n",
    "    # g_Na=0.04, \n",
    "    # g_Nac=3e-05, \n",
    "    # g_s=0.0009, \n",
    "    IstimAmplitude=0.5,\n",
    "    IstimEnd=50000.0, \n",
    "    IstimPeriod=1000.0, \n",
    "    IstimPulseDuration=1.0,\n",
    "    IstimStart=10.0, \n",
    "    C=0.01,\n",
    "\n",
    "    # Expressions for the Sodium current component\n",
    "    i_Na = (g_Nac + g_Na * (m * m * m) * h * j) * (-E_Na + V),\n",
    "\n",
    "    # Expressions for the m gate component\n",
    "    alpha_m = (-47 - V) / (-1 + 0.009095277101695816 * exp(-0.1 * V)),\n",
    "    beta_m = 0.7095526727489909 *  exp(-0.056 * V),\n",
    "    m'(t) = (1 - m) * alpha_m - beta_m * m,\n",
    "\n",
    "    # Expressions for the h gate component\n",
    "    alpha_h = 5.497962438709065e-10 *  exp(-0.25 * V),\n",
    "    beta_h = 1.7 / (1 + 0.1580253208896478 *  exp(-0.082 * V)),\n",
    "    h'(t) = (1 - h) * alpha_h - beta_h * h,\n",
    "\n",
    "    # Expressions for the j gate component\n",
    "    alpha_j = (1.8690473007222892e-10 *  exp(-0.25 * V) / (1 + 1.6788275299956603e-07 *  exp(-0.2 * V))  ),\n",
    "    beta_j = 0.3 / (1 + 0.040762203978366204 *  exp(-0.1 * V)),\n",
    "    j'(t) = (1 - j) * alpha_j - beta_j * j,\n",
    "\n",
    "    # Expressions for the Slow inward current component\n",
    "    E_s = -82.3 - 13.0287 *  log(0.001 * Cai),\n",
    "    i_s = g_s * (-E_s + V) * d * f,\n",
    "    Cai'(t) = 7.000000000000001e-06 - 0.07 * Cai - 0.01 * i_s,\n",
    "\n",
    "    # Expressions for the d gate component\n",
    "    alpha_d = (\n",
    "        0.095\n",
    "        * math.exp(1 / 20 - V / 100)\n",
    "        / (1 + 1.4332881385696572 * math.exp(-0.07199424046076314 * V))\n",
    "    ),\n",
    "    beta_d = 0.07 * math.exp(-44 / 59 - V / 59) / (1 + math.exp(11 / 5 + V / 20)),\n",
    "    d'(t) = (1 - d) * alpha_d - beta_d * d,\n",
    "\n",
    "    # Expressions for the f gate component\n",
    "    alpha_f = (\n",
    "        0.012\n",
    "        * math.exp(-28 / 125 - V / 125)\n",
    "        / (1 + 66.5465065250986 * math.exp(0.14992503748125938 * V))\n",
    "    ),\n",
    "    beta_f = 0.0065 * math.exp(-3 / 5 - V / 50) / (1 + math.exp(-6 - V / 5)),\n",
    "    f'(t) = (1 - f) * alpha_f - beta_f * f,\n",
    "\n",
    "    # Expressions for the Time dependent outward current component\n",
    "    i_x1 = (\n",
    "        0.0019727757115328517\n",
    "        * (-1 + 21.75840239619708 * math.exp(0.04 * V))\n",
    "        * math.exp(-0.04 * V)\n",
    "        * x1\n",
    "    ),\n",
    "\n",
    "    # Expressions for the X1 gate component\n",
    "    alpha_x1 = (\n",
    "        0.031158410986342627\n",
    "        * math.exp(0.08264462809917356 * V)\n",
    "        / (1 + 17.41170806332765 * math.exp(0.05714285714285714 * V))\n",
    "    ),\n",
    "    beta_x1 = (\n",
    "        0.0003916464405623223\n",
    "        * math.exp(-0.05998800239952009 * V)\n",
    "        / (1 + math.exp(-4 / 5 - V / 25))\n",
    "    ),\n",
    "    x1'(t) = (1 - x1) * alpha_x1 - beta_x1 * x1,\n",
    "\n",
    "    # Expressions for the Time independent outward current component\n",
    "    i_K1 = 0.0035 * (4.6000000000000005 + 0.2 * V) / (\n",
    "        1 - 0.39851904108451414 * math.exp(-0.04 * V)\n",
    "    ) + 0.0035 * (-4 + 119.85640018958804 * math.exp(0.04 * V)) / (\n",
    "        8.331137487687693 * math.exp(0.04 * V) + 69.4078518387552 * math.exp(0.08 * V)\n",
    "    ),\n",
    "\n",
    "    # Expressions for the Stimulus protocol component\n",
    "    if (t - IstimStart - IstimPeriod * math.floor((t - IstimStart) / IstimPeriod) <= IstimPulseDuration)and(t <= IstimEnd)and(t >= IstimStart)\n",
    "        Istim = IstimAmplitude\n",
    "    else\n",
    "        Istim = 0\n",
    "    end,\n",
    "    # Istim = (IstimAmplitude, if (t - IstimStart - IstimPeriod * math.floor((t - IstimStart) / IstimPeriod) <= IstimPulseDuration)and(t <= IstimEnd)and(t >= IstimStart) else 0,),\n",
    "    # IstimAmplitude=0.5, IstimEnd=50000.0, IstimPeriod=1000.0,\n",
    "    # IstimPulseDuration=1.0, IstimStart=10.0\n",
    "\n",
    "    # Expressions for the Membrane component\n",
    "    V'(t) = (-i_K1 - i_Na - i_s - i_x1 + Istim) / C,\n",
    "\n",
    "    y1(t) = m(t),\n",
    "    y2(t) = h(t),\n",
    "    y3(t) = j(t),\n",
    "    y4(t) = Cai(t),\n",
    "    y5(t) = d(t),\n",
    "    y6(t) = f(t),\n",
    "    y7(t) = x1(t),\n",
    "    y8(t) = V(t),\n",
    ")"
   ]
  },
  {
   "cell_type": "code",
   "execution_count": 5,
   "id": "b99bdba4-c6c6-4e1e-b1e9-e2fe0f18a652",
   "metadata": {},
   "outputs": [
    {
     "data": {
      "text/plain": [
       "v'(t) = -w(t) - v(t)^3 + v(t) + 23//100\n",
       "w'(t) = (-a - w(t)*b + v(t))//tau\n",
       "y(t) = v(t)\n"
      ]
     },
     "execution_count": 5,
     "metadata": {},
     "output_type": "execute_result"
    }
   ],
   "source": [
    "#v known, I_ext fixed\n",
    "ode_fhn0 = @ODEmodel(\n",
    "    v'(t) = v - v*v*v - w + (23/100),\n",
    "    w'(t) = (v - a - b*w)/tau,\n",
    "    y(t) = v(t)\n",
    ")"
   ]
  },
  {
   "cell_type": "code",
   "execution_count": 6,
   "id": "d5608570-021d-4d63-84e2-bbd034f90a7f",
   "metadata": {},
   "outputs": [
    {
     "data": {
      "text/plain": [
       "v'(t) = I_ext - w(t) - v(t)^3 + v(t)\n",
       "w'(t) = (-w(t)*b + v(t) + 3//10)//tau\n",
       "y(t) = v(t)\n"
      ]
     },
     "execution_count": 6,
     "metadata": {},
     "output_type": "execute_result"
    }
   ],
   "source": [
    "#v known, a fixed\n",
    "ode_fhn1 = @ODEmodel(\n",
    "    v'(t) = v - v*v*v - w + I_ext,\n",
    "    w'(t) = (v + 3/10 - b*w)/tau,\n",
    "    y(t) = v(t)\n",
    ")"
   ]
  },
  {
   "cell_type": "code",
   "execution_count": 7,
   "id": "3e1de781",
   "metadata": {},
   "outputs": [
    {
     "data": {
      "text/plain": [
       "w'(t) = (-w(t)*b - a + v(t))//tau\n",
       "v'(t) = I_ext - w(t) - v(t)^3 + v(t)\n",
       "y1(t) = v(t)\n",
       "y2(t) = w(t)\n"
      ]
     },
     "execution_count": 7,
     "metadata": {},
     "output_type": "execute_result"
    }
   ],
   "source": [
    "#v,w known, no parameters fixed\n",
    "ode_fhn2 = @ODEmodel(\n",
    "    v'(t) = v - v*v*v - w + I_ext,\n",
    "    w'(t) = (v - a - b*w)/tau,\n",
    "    y1(t) = v(t),\n",
    "    y2(t) = w(t),\n",
    ")"
   ]
  },
  {
   "cell_type": "code",
   "execution_count": 8,
   "id": "309c45ae-3b4e-4d0b-8f4c-4e2cfaa0fc6f",
   "metadata": {},
   "outputs": [
    {
     "data": {
      "text/plain": [
       "v'(t) = I_ext - w(t) - v(t)^3 + v(t)\n",
       "w'(t) = (-w(t)*b - a + v(t))//tau\n",
       "y(t) = w(t)\n"
      ]
     },
     "execution_count": 8,
     "metadata": {},
     "output_type": "execute_result"
    }
   ],
   "source": [
    "#w known, no parameters fixed\n",
    "ode_fhn3 = @ODEmodel(\n",
    "    v'(t) = v - v*v*v - w + I_ext,\n",
    "    w'(t) = (v - a - b*w)/tau,\n",
    "    y(t) = w(t),\n",
    ")"
   ]
  },
  {
   "cell_type": "code",
   "execution_count": 9,
   "id": "5c6dee33-e8a8-46e6-9adc-020333f1214c",
   "metadata": {},
   "outputs": [
    {
     "name": "stdout",
     "output_type": "stream",
     "text": [
      "Dict{Nemo.fmpq_mpoly, Bool}(v => 1, I_ext => 0, a => 0, b => 1, tau => 1, w => 0)\n",
      "Dict{Any, Symbol}(I_ext => :nonidentifiable, a => :nonidentifiable, b => :globally, tau => :globally)"
     ]
    }
   ],
   "source": [
    "print(assess_local_identifiability(ode_br))\n",
    "print(\"\\n\")\n",
    "print(assess_identifiability(ode_br))"
   ]
  },
  {
   "cell_type": "code",
   "execution_count": 10,
   "id": "8a828890-5a67-44b7-a492-d59a1d78ac1c",
   "metadata": {},
   "outputs": [
    {
     "name": "stdout",
     "output_type": "stream",
     "text": [
      "Dict{Nemo.fmpq_mpoly, Bool}(a => 1, b => 1, tau => 1, v => 1, w => 1)\n",
      "Dict{Any, Symbol}(a => :globally, b => :globally, tau => :globally)"
     ]
    }
   ],
   "source": [
    "print(assess_local_identifiability(ode_fhn0))\n",
    "print(\"\\n\")\n",
    "print(assess_identifiability(ode_fhn0))"
   ]
  },
  {
   "cell_type": "code",
   "execution_count": 11,
   "id": "f886b676-022a-436f-bbbd-d0f13431f7bc",
   "metadata": {},
   "outputs": [
    {
     "name": "stdout",
     "output_type": "stream",
     "text": [
      "Dict{Nemo.fmpq_mpoly, Bool}(I_ext => 1, b => 1, tau => 1, v => 1, w => 1)\n",
      "Dict{Any, Symbol}(I_ext => :globally, b => :globally, tau => :globally)"
     ]
    }
   ],
   "source": [
    "print(assess_local_identifiability(ode_fhn1))\n",
    "print(\"\\n\")\n",
    "print(assess_identifiability(ode_fhn1))"
   ]
  },
  {
   "cell_type": "code",
   "execution_count": 12,
   "id": "cbd47ade-a502-4d80-9383-546e25c9637d",
   "metadata": {},
   "outputs": [
    {
     "name": "stdout",
     "output_type": "stream",
     "text": [
      "Dict{Nemo.fmpq_mpoly, Bool}(I_ext => 1, a => 1, b => 1, tau => 1, w => 1, v => 1)\n",
      "Dict{Any, Symbol}(I_ext => :globally, a => :globally, b => :globally, tau => :globally)"
     ]
    }
   ],
   "source": [
    "print(assess_local_identifiability(ode_fhn2))\n",
    "print(\"\\n\")\n",
    "print(assess_identifiability(ode_fhn2))"
   ]
  },
  {
   "cell_type": "code",
   "execution_count": 13,
   "id": "fac8e609-d9a8-47a8-81d4-cccdb06d5cb4",
   "metadata": {},
   "outputs": [
    {
     "name": "stdout",
     "output_type": "stream",
     "text": [
      "Dict{Nemo.fmpq_mpoly, Bool}(v => 1, I_ext => 1, a => 1, b => 1, tau => 1, w => 1)\n",
      "Dict{Any, Symbol}(I_ext => :globally, a => :globally, b => :globally, tau => :globally)"
     ]
    }
   ],
   "source": [
    "print(assess_local_identifiability(ode_fhn3))\n",
    "print(\"\\n\")\n",
    "print(assess_identifiability(ode_fhn3))"
   ]
  },
  {
   "cell_type": "code",
   "execution_count": null,
   "id": "07b0e743-ff4a-4677-a8d4-303cb0e0095d",
   "metadata": {},
   "outputs": [],
   "source": []
  },
  {
   "cell_type": "code",
   "execution_count": null,
   "id": "17e7142c-0af9-49a3-8f83-8556540c56ac",
   "metadata": {},
   "outputs": [],
   "source": []
  }
 ],
 "metadata": {
  "kernelspec": {
   "display_name": "Julia 1.7.0",
   "language": "julia",
   "name": "julia-1.7"
  },
  "language_info": {
   "file_extension": ".jl",
   "mimetype": "application/julia",
   "name": "julia",
   "version": "1.7.0"
  }
 },
 "nbformat": 4,
 "nbformat_minor": 5
}
