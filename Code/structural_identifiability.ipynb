{
 "cells": [
  {
   "cell_type": "code",
   "execution_count": 1,
   "id": "eb20974e",
   "metadata": {},
   "outputs": [],
   "source": [
    "### For first-time users, the StructuralIdentifiability package can be installed by the following command\n",
    "\n",
    "#using Pkg\n",
    "#Pkg.add(\"StructuralIdentifiability\")\n"
   ]
  },
  {
   "cell_type": "code",
   "execution_count": 2,
   "id": "fdfe63b2",
   "metadata": {},
   "outputs": [
    {
     "name": "stdout",
     "output_type": "stream",
     "text": [
      "Singular.jl, based on\n",
      "                     SINGULAR                               /\n",
      " A Computer Algebra System for Polynomial Computations     /  Singular.jl: 0.5.8\n",
      "                                                         0<   Singular   : 4.2.0p1\n",
      " by: W. Decker, G.-M. Greuel, G. Pfister, H. Schoenemann   \\\n",
      "FB Mathematik der Universitaet, D-67653 Kaiserslautern      \\\n",
      "     \n"
     ]
    }
   ],
   "source": [
    "# import Pkg \n",
    "# Pkg.precompile()\n",
    "using StructuralIdentifiability"
   ]
  },
  {
   "cell_type": "code",
   "execution_count": 3,
   "id": "3a69b644",
   "metadata": {},
   "outputs": [
    {
     "name": "stderr",
     "output_type": "stream",
     "text": [
      "┌ Info: Summary of the model:\n",
      "└ @ StructuralIdentifiability /home/jovyan/.julia/packages/StructuralIdentifiability/pKyok/src/ODE.jl:303\n",
      "┌ Info: State variables: h1, G, Ip, h2, h3, g1, g2, g3, Ii, g4\n",
      "└ @ StructuralIdentifiability /home/jovyan/.julia/packages/StructuralIdentifiability/pKyok/src/ODE.jl:304\n",
      "┌ Info: Parameters: C2, alpha, Um, C1, Ub, tp, E, Vp, Vg, td, ti, beta, Vi, Rg, U0\n",
      "└ @ StructuralIdentifiability /home/jovyan/.julia/packages/StructuralIdentifiability/pKyok/src/ODE.jl:305\n",
      "┌ Info: Inputs: IG\n",
      "└ @ StructuralIdentifiability /home/jovyan/.julia/packages/StructuralIdentifiability/pKyok/src/ODE.jl:306\n",
      "┌ Info: Outputs: y\n",
      "└ @ StructuralIdentifiability /home/jovyan/.julia/packages/StructuralIdentifiability/pKyok/src/ODE.jl:307\n"
     ]
    },
    {
     "data": {
      "text/plain": [
       "g1'(t) = (-IG(t)*g3(t)*Vg*g1(t)*g4(t) + IG(t)*g3(t)*Vg*g4(t) + 1//100*Um*g1(t)*g4(t)*G(t) - 1//100*Um*g4(t)*G(t) + g3(t)*Ub*g2(t)*Vg*g1(t)*g4(t) - g3(t)*Ub*g2(t)*Vg*g4(t) - g3(t)*Vg*g1(t)*Rg + g3(t)*Vg*Rg + 1//100*g3(t)*g1(t)*g4(t)*G(t)*U0 - 1//100*g3(t)*g4(t)*G(t)*U0)//(C1*g3(t)*Vg^2*g4(t))\n",
       "g2'(t) = (-IG(t)*g3(t)*g2(t)*Vg*g4(t) + IG(t)*g3(t)*Vg*g4(t) + 1//100*Um*g2(t)*g4(t)*G(t) - 1//100*Um*g4(t)*G(t) + g3(t)*Ub*g2(t)^2*Vg*g4(t) - g3(t)*Ub*g2(t)*Vg*g4(t) - g3(t)*g2(t)*Vg*Rg + 1//100*g3(t)*g2(t)*g4(t)*G(t)*U0 + g3(t)*Vg*Rg - 1//100*g3(t)*g4(t)*G(t)*U0)//(C2*g3(t)*Vg^2*g4(t))\n",
       "g3'(t) = (-g3(t)*Ip(t)*E*ti*beta*Vi + g3(t)*Ii(t)*E*Vp*ti*beta + g3(t)*Ii(t)*Vp*beta*Vi + Ip(t)*E*ti*beta*Vi - Ii(t)*E*Vp*ti*beta - Ii(t)*Vp*beta*Vi)//(Ii(t)*Vp*ti*Vi)\n",
       "g4'(t) = (-1//26*alpha*h3(t)*g4(t) + 1//26*alpha*h3(t) + 1//26*alpha*g4(t)*h2(t) - 1//26*alpha*h2(t))//(Vp*td)\n",
       "Ii'(t) = (Ip(t)*E*ti*Vi - Ii(t)*E*Vp*ti - Ii(t)*Vp*Vi)//(Vp*ti*Vi)\n",
       "Ip'(t) = (-Ip(t)*tp*E*g1(t)*Vi - Ip(t)*Vp*g1(t)*Vi + tp*Ii(t)*E*Vp*g1(t) + 209*tp*Vp*Vi)//(tp*Vp*g1(t)*Vi)\n",
       "G'(t) = (IG(t)*g3(t)*Vg*g4(t) - 1//100*Um*g4(t)*G(t) - g3(t)*Ub*g2(t)*Vg*g4(t) + g3(t)*Vg*Rg - 1//100*g3(t)*g4(t)*G(t)*U0)//(g3(t)*Vg*g4(t))\n",
       "h1'(t) = (-h1(t) + Ip(t))//td\n",
       "h2'(t) = (h1(t) - h2(t))//td\n",
       "h3'(t) = (-h3(t) + h2(t))//td\n",
       "y(t) = G(t)\n"
      ]
     },
     "execution_count": 3,
     "metadata": {},
     "output_type": "execute_result"
    }
   ],
   "source": [
    "# Given G, infer all parameters case\n",
    "ode = @ODEmodel(\n",
    "    Ip'(t) = 209 / g1(t) - E * (Ip(t) / Vp - Ii(t) / Vi) - Ip(t) / tp,\n",
    "    Ii'(t) = E * (Ip(t) / Vp - Ii(t) / Vi) - Ii(t) / ti,\n",
    "    G'(t) = Rg / g4(t) + IG(t) - Ub * g2(t) - (U0 + Um / g3(t)) / Vg / 100 * G(t),\n",
    "    h1'(t) = (Ip(t) - h1(t)) / td,\n",
    "    h2'(t) = (h1(t) - h2(t)) / td,\n",
    "    h3'(t) = (h2(t) - h3(t)) / td,\n",
    "    g1'(t) = -(g1(t)-1)/Vg/C1*(Rg / g4(t) + IG(t) - Ub * g2(t) - (U0 + Um / g3(t)) / Vg / 100 * G(t)),\n",
    "    g2'(t) = -(g2(t)-1)/Vg/C2*(Rg / g4(t) + IG(t) - Ub * g2(t) - (U0 + Um / g3(t)) / Vg / 100 * G(t)),\n",
    "    g3'(t) = -beta*(g3(t)-1)/Ii(t)*(E * (Ip(t) / Vp - Ii(t) / Vi) - Ii(t) / ti),\n",
    "    g4'(t) = alpha / 26 / Vp * (g4(t)-1) * (h2(t) - h3(t)) / td,\n",
    "    y(t) = G(t)\n",
    ")"
   ]
  },
  {
   "cell_type": "code",
   "execution_count": 4,
   "id": "38dbd406",
   "metadata": {},
   "outputs": [
    {
     "name": "stderr",
     "output_type": "stream",
     "text": [
      "┌ Info: Summary of the model:\n",
      "└ @ StructuralIdentifiability /home/jovyan/.julia/packages/StructuralIdentifiability/pKyok/src/ODE.jl:303\n",
      "┌ Info: State variables: h1, G, Ip, h2, h3, g1, g2, g3, Ii, g4\n",
      "└ @ StructuralIdentifiability /home/jovyan/.julia/packages/StructuralIdentifiability/pKyok/src/ODE.jl:304\n",
      "┌ Info: Parameters: C2, alpha, Um, C1, Ub, tp, E, Vp, Vg, td, ti, beta, Vi, Rg, U0\n",
      "└ @ StructuralIdentifiability /home/jovyan/.julia/packages/StructuralIdentifiability/pKyok/src/ODE.jl:305\n",
      "┌ Info: Inputs: IG\n",
      "└ @ StructuralIdentifiability /home/jovyan/.julia/packages/StructuralIdentifiability/pKyok/src/ODE.jl:306\n",
      "┌ Info: Outputs: y3, y1, y2\n",
      "└ @ StructuralIdentifiability /home/jovyan/.julia/packages/StructuralIdentifiability/pKyok/src/ODE.jl:307\n"
     ]
    },
    {
     "data": {
      "text/plain": [
       "g3'(t) = (-g3(t)*Ip(t)*E*ti*beta*Vi + g3(t)*Ii(t)*E*Vp*ti*beta + g3(t)*Ii(t)*Vp*beta*Vi + Ip(t)*E*ti*beta*Vi - Ii(t)*E*Vp*ti*beta - Ii(t)*Vp*beta*Vi)//(Ii(t)*Vp*ti*Vi)\n",
       "g4'(t) = (-1//26*alpha*h3(t)*g4(t) + 1//26*alpha*h3(t) + 1//26*alpha*g4(t)*h2(t) - 1//26*alpha*h2(t))//(Vp*td)\n",
       "Ip'(t) = (-Ip(t)*tp*E*g1(t)*Vi - Ip(t)*Vp*g1(t)*Vi + tp*Ii(t)*E*Vp*g1(t) + 209*tp*Vp*Vi)//(tp*Vp*g1(t)*Vi)\n",
       "Ii'(t) = (Ip(t)*E*ti*Vi - Ii(t)*E*Vp*ti - Ii(t)*Vp*Vi)//(Vp*ti*Vi)\n",
       "G'(t) = (IG(t)*g3(t)*Vg*g4(t) - 1//100*Um*g4(t)*G(t) - g3(t)*Ub*g2(t)*Vg*g4(t) + g3(t)*Vg*Rg - 1//100*g3(t)*g4(t)*G(t)*U0)//(g3(t)*Vg*g4(t))\n",
       "h1'(t) = (-h1(t) + Ip(t))//td\n",
       "h2'(t) = (h1(t) - h2(t))//td\n",
       "h3'(t) = (-h3(t) + h2(t))//td\n",
       "g1'(t) = (-IG(t)*g3(t)*Vg*g1(t)*g4(t) + IG(t)*g3(t)*Vg*g4(t) + 1//100*Um*g1(t)*g4(t)*G(t) - 1//100*Um*g4(t)*G(t) + g3(t)*Ub*g2(t)*Vg*g1(t)*g4(t) - g3(t)*Ub*g2(t)*Vg*g4(t) - g3(t)*Vg*g1(t)*Rg + g3(t)*Vg*Rg + 1//100*g3(t)*g1(t)*g4(t)*G(t)*U0 - 1//100*g3(t)*g4(t)*G(t)*U0)//(C1*g3(t)*Vg^2*g4(t))\n",
       "g2'(t) = (-IG(t)*g3(t)*g2(t)*Vg*g4(t) + IG(t)*g3(t)*Vg*g4(t) + 1//100*Um*g2(t)*g4(t)*G(t) - 1//100*Um*g4(t)*G(t) + g3(t)*Ub*g2(t)^2*Vg*g4(t) - g3(t)*Ub*g2(t)*Vg*g4(t) - g3(t)*g2(t)*Vg*Rg + 1//100*g3(t)*g2(t)*g4(t)*G(t)*U0 + g3(t)*Vg*Rg - 1//100*g3(t)*g4(t)*G(t)*U0)//(C2*g3(t)*Vg^2*g4(t))\n",
       "y1(t) = G(t)\n",
       "y2(t) = Ii(t)\n",
       "y3(t) = Ip(t)\n"
      ]
     },
     "execution_count": 4,
     "metadata": {},
     "output_type": "execute_result"
    }
   ],
   "source": [
    "# Given G, I_p, I_i, infer all parameters case\n",
    "ode2 = @ODEmodel(\n",
    "    Ip'(t) = 209 / g1(t) - E * (Ip(t) / Vp - Ii(t) / Vi) - Ip(t) / tp,\n",
    "    Ii'(t) = E * (Ip(t) / Vp - Ii(t) / Vi) - Ii(t) / ti,\n",
    "    G'(t) = Rg / g4(t) + IG(t) - Ub * g2(t) - (U0 + Um / g3(t)) / Vg / 100 * G(t),\n",
    "    h1'(t) = (Ip(t) - h1(t)) / td,\n",
    "    h2'(t) = (h1(t) - h2(t)) / td,\n",
    "    h3'(t) = (h2(t) - h3(t)) / td,\n",
    "    g1'(t) = -(g1(t)-1)/Vg/C1*(Rg / g4(t) + IG(t) - Ub * g2(t) - (U0 + Um / g3(t)) / Vg / 100 * G(t)),\n",
    "    g2'(t) = -(g2(t)-1)/Vg/C2*(Rg / g4(t) + IG(t) - Ub * g2(t) - (U0 + Um / g3(t)) / Vg / 100 * G(t)),\n",
    "    g3'(t) = -beta*(g3(t)-1)/Ii(t)*(E * (Ip(t) / Vp - Ii(t) / Vi) - Ii(t) / ti),\n",
    "    g4'(t) = alpha / 26 / Vp * (g4(t)-1) * (h2(t) - h3(t)) / td,\n",
    "    y1(t) = G(t),\n",
    "    y2(t) = Ii(t),\n",
    "    y3(t) = Ip(t)\n",
    ")"
   ]
  },
  {
   "cell_type": "code",
   "execution_count": 5,
   "id": "a51eb50b",
   "metadata": {},
   "outputs": [
    {
     "name": "stderr",
     "output_type": "stream",
     "text": [
      "┌ Info: Summary of the model:\n",
      "└ @ StructuralIdentifiability /home/jovyan/.julia/packages/StructuralIdentifiability/pKyok/src/ODE.jl:303\n",
      "┌ Info: State variables: h1, G, Ip, h2, h3, g1, g2, g3, Ii, g4\n",
      "└ @ StructuralIdentifiability /home/jovyan/.julia/packages/StructuralIdentifiability/pKyok/src/ODE.jl:304\n",
      "┌ Info: Parameters: C2, alpha, Um, C1, Ub, tp, E, Vg, td, ti, beta, Vi, Rg, U0\n",
      "└ @ StructuralIdentifiability /home/jovyan/.julia/packages/StructuralIdentifiability/pKyok/src/ODE.jl:305\n",
      "┌ Info: Inputs: IG\n",
      "└ @ StructuralIdentifiability /home/jovyan/.julia/packages/StructuralIdentifiability/pKyok/src/ODE.jl:306\n",
      "┌ Info: Outputs: y\n",
      "└ @ StructuralIdentifiability /home/jovyan/.julia/packages/StructuralIdentifiability/pKyok/src/ODE.jl:307\n"
     ]
    },
    {
     "data": {
      "text/plain": [
       "G'(t) = (IG(t)*g3(t)*Vg*g4(t) - 1//100*Um*g4(t)*G(t) - g3(t)*Ub*g2(t)*Vg*g4(t) + g3(t)*Vg*Rg - 1//100*g3(t)*g4(t)*G(t)*U0)//(g3(t)*Vg*g4(t))\n",
       "h1'(t) = (-h1(t) + Ip(t))//td\n",
       "h2'(t) = (h1(t) - h2(t))//td\n",
       "h3'(t) = (-h3(t) + h2(t))//td\n",
       "g1'(t) = (-IG(t)*g3(t)*Vg*g1(t)*g4(t) + IG(t)*g3(t)*Vg*g4(t) + 1//100*Um*g1(t)*g4(t)*G(t) - 1//100*Um*g4(t)*G(t) + g3(t)*Ub*g2(t)*Vg*g1(t)*g4(t) - g3(t)*Ub*g2(t)*Vg*g4(t) - g3(t)*Vg*g1(t)*Rg + g3(t)*Vg*Rg + 1//100*g3(t)*g1(t)*g4(t)*G(t)*U0 - 1//100*g3(t)*g4(t)*G(t)*U0)//(C1*g3(t)*Vg^2*g4(t))\n",
       "g2'(t) = (-IG(t)*g3(t)*g2(t)*Vg*g4(t) + IG(t)*g3(t)*Vg*g4(t) + 1//100*Um*g2(t)*g4(t)*G(t) - 1//100*Um*g4(t)*G(t) + g3(t)*Ub*g2(t)^2*Vg*g4(t) - g3(t)*Ub*g2(t)*Vg*g4(t) - g3(t)*g2(t)*Vg*Rg + 1//100*g3(t)*g2(t)*g4(t)*G(t)*U0 + g3(t)*Vg*Rg - 1//100*g3(t)*g4(t)*G(t)*U0)//(C2*g3(t)*Vg^2*g4(t))\n",
       "g3'(t) = (-1//3*g3(t)*Ip(t)*E*ti*beta*Vi + g3(t)*Ii(t)*E*ti*beta + g3(t)*Ii(t)*beta*Vi + 1//3*Ip(t)*E*ti*beta*Vi - Ii(t)*E*ti*beta - Ii(t)*beta*Vi)//(Ii(t)*ti*Vi)\n",
       "g4'(t) = (-1//78*alpha*h3(t)*g4(t) + 1//78*alpha*h3(t) + 1//78*alpha*g4(t)*h2(t) - 1//78*alpha*h2(t))//td\n",
       "Ip'(t) = (-1//3*Ip(t)*tp*E*g1(t)*Vi - Ip(t)*g1(t)*Vi + tp*Ii(t)*E*g1(t) + 209*tp*Vi)//(tp*g1(t)*Vi)\n",
       "Ii'(t) = (1//3*Ip(t)*E*ti*Vi - Ii(t)*E*ti - Ii(t)*Vi)//(ti*Vi)\n",
       "y(t) = G(t)\n"
      ]
     },
     "execution_count": 5,
     "metadata": {},
     "output_type": "execute_result"
    }
   ],
   "source": [
    "# Given G, fix V_p case\n",
    "ode3 = @ODEmodel(\n",
    "    Ip'(t) = 209 / g1(t) - E * (Ip(t) / 3 - Ii(t) / Vi) - Ip(t) / tp,\n",
    "    Ii'(t) = E * (Ip(t) / 3 - Ii(t) / Vi) - Ii(t) / ti,\n",
    "    G'(t) = Rg / g4(t) + IG(t) - Ub * g2(t) - (U0 + Um / g3(t)) / Vg / 100 * G(t),\n",
    "    h1'(t) = (Ip(t) - h1(t)) / td,\n",
    "    h2'(t) = (h1(t) - h2(t)) / td,\n",
    "    h3'(t) = (h2(t) - h3(t)) / td,\n",
    "    g1'(t) = -(g1(t)-1)/Vg/C1*(Rg / g4(t) + IG(t) - Ub * g2(t) - (U0 + Um / g3(t)) / Vg / 100 * G(t)),\n",
    "    g2'(t) = -(g2(t)-1)/Vg/C2*(Rg / g4(t) + IG(t) - Ub * g2(t) - (U0 + Um / g3(t)) / Vg / 100 * G(t)),\n",
    "    g3'(t) = -beta*(g3(t)-1)/Ii(t)*(E * (Ip(t) / 3 - Ii(t) / Vi) - Ii(t) / ti),\n",
    "    g4'(t) = alpha / 26 / 3 * (g4(t)-1) * (h2(t) - h3(t)) / td,\n",
    "    y(t) = G(t)\n",
    ")"
   ]
  },
  {
   "cell_type": "code",
   "execution_count": 6,
   "id": "9359b5b1",
   "metadata": {},
   "outputs": [
    {
     "name": "stderr",
     "output_type": "stream",
     "text": [
      "┌ Info: Summary of the model:\n",
      "└ @ StructuralIdentifiability /home/jovyan/.julia/packages/StructuralIdentifiability/pKyok/src/ODE.jl:303\n",
      "┌ Info: State variables: h1, G, Ip, h2, h3, g1, g2, g3, Ii, g4\n",
      "└ @ StructuralIdentifiability /home/jovyan/.julia/packages/StructuralIdentifiability/pKyok/src/ODE.jl:304\n",
      "┌ Info: Parameters: C2, alpha, Um, C1, Ub, tp, E, Vg, td, ti, beta, Rg, U0\n",
      "└ @ StructuralIdentifiability /home/jovyan/.julia/packages/StructuralIdentifiability/pKyok/src/ODE.jl:305\n",
      "┌ Info: Inputs: IG\n",
      "└ @ StructuralIdentifiability /home/jovyan/.julia/packages/StructuralIdentifiability/pKyok/src/ODE.jl:306\n",
      "┌ Info: Outputs: y\n",
      "└ @ StructuralIdentifiability /home/jovyan/.julia/packages/StructuralIdentifiability/pKyok/src/ODE.jl:307\n"
     ]
    },
    {
     "data": {
      "text/plain": [
       "h2'(t) = (h1(t) - h2(t))//td\n",
       "h3'(t) = (-h3(t) + h2(t))//td\n",
       "g1'(t) = (-IG(t)*g3(t)*Vg*g1(t)*g4(t) + IG(t)*g3(t)*Vg*g4(t) + 1//100*Um*g1(t)*g4(t)*G(t) - 1//100*Um*g4(t)*G(t) + g3(t)*Ub*g2(t)*Vg*g1(t)*g4(t) - g3(t)*Ub*g2(t)*Vg*g4(t) - g3(t)*Vg*g1(t)*Rg + g3(t)*Vg*Rg + 1//100*g3(t)*g1(t)*g4(t)*G(t)*U0 - 1//100*g3(t)*g4(t)*G(t)*U0)//(C1*g3(t)*Vg^2*g4(t))\n",
       "g2'(t) = (-IG(t)*g3(t)*g2(t)*Vg*g4(t) + IG(t)*g3(t)*Vg*g4(t) + 1//100*Um*g2(t)*g4(t)*G(t) - 1//100*Um*g4(t)*G(t) + g3(t)*Ub*g2(t)^2*Vg*g4(t) - g3(t)*Ub*g2(t)*Vg*g4(t) - g3(t)*g2(t)*Vg*Rg + 1//100*g3(t)*g2(t)*g4(t)*G(t)*U0 + g3(t)*Vg*Rg - 1//100*g3(t)*g4(t)*G(t)*U0)//(C2*g3(t)*Vg^2*g4(t))\n",
       "g3'(t) = (-1//3*g3(t)*Ip(t)*E*ti*beta + 1//11*g3(t)*Ii(t)*E*ti*beta + g3(t)*Ii(t)*beta + 1//3*Ip(t)*E*ti*beta - 1//11*Ii(t)*E*ti*beta - Ii(t)*beta)//(Ii(t)*ti)\n",
       "g4'(t) = (-1//78*alpha*h3(t)*g4(t) + 1//78*alpha*h3(t) + 1//78*alpha*g4(t)*h2(t) - 1//78*alpha*h2(t))//td\n",
       "Ip'(t) = (-1//3*Ip(t)*tp*E*g1(t) - Ip(t)*g1(t) + 1//11*tp*Ii(t)*E*g1(t) + 209*tp)//(tp*g1(t))\n",
       "Ii'(t) = (1//3*Ip(t)*E*ti - 1//11*Ii(t)*E*ti - Ii(t))//ti\n",
       "G'(t) = (IG(t)*g3(t)*Vg*g4(t) - 1//100*Um*g4(t)*G(t) - g3(t)*Ub*g2(t)*Vg*g4(t) + g3(t)*Vg*Rg - 1//100*g3(t)*g4(t)*G(t)*U0)//(g3(t)*Vg*g4(t))\n",
       "h1'(t) = (-h1(t) + Ip(t))//td\n",
       "y(t) = G(t)\n"
      ]
     },
     "execution_count": 6,
     "metadata": {},
     "output_type": "execute_result"
    }
   ],
   "source": [
    "# Given G, fix V_p, V_i case\n",
    "ode4 = @ODEmodel(\n",
    "    Ip'(t) = 209 / g1(t) - E * (Ip(t) / 3 - Ii(t) / 11) - Ip(t) / tp,\n",
    "    Ii'(t) = E * (Ip(t) / 3 - Ii(t) / 11) - Ii(t) / ti,\n",
    "    G'(t) = Rg / g4(t) + IG(t) - Ub * g2(t) - (U0 + Um / g3(t)) / Vg / 100 * G(t),\n",
    "    h1'(t) = (Ip(t) - h1(t)) / td,\n",
    "    h2'(t) = (h1(t) - h2(t)) / td,\n",
    "    h3'(t) = (h2(t) - h3(t)) / td,\n",
    "    g1'(t) = -(g1(t)-1)/Vg/C1*(Rg / g4(t) + IG(t) - Ub * g2(t) - (U0 + Um / g3(t)) / Vg / 100 * G(t)),\n",
    "    g2'(t) = -(g2(t)-1)/Vg/C2*(Rg / g4(t) + IG(t) - Ub * g2(t) - (U0 + Um / g3(t)) / Vg / 100 * G(t)),\n",
    "    g3'(t) = -beta*(g3(t)-1)/Ii(t)*(E * (Ip(t) / 3 - Ii(t) / 11) - Ii(t) / ti),\n",
    "    g4'(t) = alpha / 26 / 3 * (g4(t)-1) * (h2(t) - h3(t)) / td,\n",
    "    y(t) = G(t)\n",
    ")"
   ]
  },
  {
   "cell_type": "code",
   "execution_count": 7,
   "id": "f124883a",
   "metadata": {},
   "outputs": [
    {
     "name": "stderr",
     "output_type": "stream",
     "text": [
      "┌ Info: Summary of the model:\n",
      "└ @ StructuralIdentifiability /home/jovyan/.julia/packages/StructuralIdentifiability/pKyok/src/ODE.jl:303\n",
      "┌ Info: State variables: h1, G, Ip, h2, h3, g1, g2, g3, Ii, g4\n",
      "└ @ StructuralIdentifiability /home/jovyan/.julia/packages/StructuralIdentifiability/pKyok/src/ODE.jl:304\n",
      "┌ Info: Parameters: C2, alpha, Um, C1, Ub, tp, E, td, ti, beta, Rg, U0\n",
      "└ @ StructuralIdentifiability /home/jovyan/.julia/packages/StructuralIdentifiability/pKyok/src/ODE.jl:305\n",
      "┌ Info: Inputs: IG\n",
      "└ @ StructuralIdentifiability /home/jovyan/.julia/packages/StructuralIdentifiability/pKyok/src/ODE.jl:306\n",
      "┌ Info: Outputs: y\n",
      "└ @ StructuralIdentifiability /home/jovyan/.julia/packages/StructuralIdentifiability/pKyok/src/ODE.jl:307\n"
     ]
    },
    {
     "data": {
      "text/plain": [
       "Ip'(t) = (-1//3*Ip(t)*tp*E*g1(t) - Ip(t)*g1(t) + 1//11*tp*Ii(t)*E*g1(t) + 209*tp)//(tp*g1(t))\n",
       "Ii'(t) = (1//3*Ip(t)*E*ti - 1//11*Ii(t)*E*ti - Ii(t))//ti\n",
       "G'(t) = (IG(t)*g3(t)*g4(t) - 1//1000*Um*g4(t)*G(t) - g3(t)*Ub*g2(t)*g4(t) - 1//1000*g3(t)*g4(t)*G(t)*U0 + g3(t)*Rg)//(g3(t)*g4(t))\n",
       "h1'(t) = (-h1(t) + Ip(t))//td\n",
       "h2'(t) = (h1(t) - h2(t))//td\n",
       "h3'(t) = (-h3(t) + h2(t))//td\n",
       "g1'(t) = (-1//10*IG(t)*g3(t)*g1(t)*g4(t) + 1//10*IG(t)*g3(t)*g4(t) + 1//10000*Um*g1(t)*g4(t)*G(t) - 1//10000*Um*g4(t)*G(t) + 1//10*g3(t)*Ub*g2(t)*g1(t)*g4(t) - 1//10*g3(t)*Ub*g2(t)*g4(t) + 1//10000*g3(t)*g1(t)*g4(t)*G(t)*U0 - 1//10*g3(t)*g1(t)*Rg - 1//10000*g3(t)*g4(t)*G(t)*U0 + 1//10*g3(t)*Rg)//(C1*g3(t)*g4(t))\n",
       "g2'(t) = (-1//10*IG(t)*g3(t)*g2(t)*g4(t) + 1//10*IG(t)*g3(t)*g4(t) + 1//10000*Um*g2(t)*g4(t)*G(t) - 1//10000*Um*g4(t)*G(t) + 1//10*g3(t)*Ub*g2(t)^2*g4(t) - 1//10*g3(t)*Ub*g2(t)*g4(t) + 1//10000*g3(t)*g2(t)*g4(t)*G(t)*U0 - 1//10*g3(t)*g2(t)*Rg - 1//10000*g3(t)*g4(t)*G(t)*U0 + 1//10*g3(t)*Rg)//(C2*g3(t)*g4(t))\n",
       "g3'(t) = (-1//3*g3(t)*Ip(t)*E*ti*beta + 1//11*g3(t)*Ii(t)*E*ti*beta + g3(t)*Ii(t)*beta + 1//3*Ip(t)*E*ti*beta - 1//11*Ii(t)*E*ti*beta - Ii(t)*beta)//(Ii(t)*ti)\n",
       "g4'(t) = (-1//78*alpha*h3(t)*g4(t) + 1//78*alpha*h3(t) + 1//78*alpha*g4(t)*h2(t) - 1//78*alpha*h2(t))//td\n",
       "y(t) = G(t)\n"
      ]
     },
     "execution_count": 7,
     "metadata": {},
     "output_type": "execute_result"
    }
   ],
   "source": [
    "# Given G, fix V_p, V_i, V_g case\n",
    "ode5 = @ODEmodel(\n",
    "    Ip'(t) = 209 / g1(t) - E * (Ip(t) / 3 - Ii(t) / 11) - Ip(t) / tp,\n",
    "    Ii'(t) = E * (Ip(t) / 3 - Ii(t) / 11) - Ii(t) / ti,\n",
    "    G'(t) = Rg / g4(t) + IG(t) - Ub * g2(t) - (U0 + Um / g3(t)) / 10 / 100 * G(t),\n",
    "    h1'(t) = (Ip(t) - h1(t)) / td,\n",
    "    h2'(t) = (h1(t) - h2(t)) / td,\n",
    "    h3'(t) = (h2(t) - h3(t)) / td,\n",
    "    g1'(t) = -(g1(t)-1)/10/C1*(Rg / g4(t) + IG(t) - Ub * g2(t) - (U0 + Um / g3(t)) / 10 / 100 * G(t)),\n",
    "    g2'(t) = -(g2(t)-1)/10/C2*(Rg / g4(t) + IG(t) - Ub * g2(t) - (U0 + Um / g3(t)) / 10 / 100 * G(t)),\n",
    "    g3'(t) = -beta*(g3(t)-1)/Ii(t)*(E * (Ip(t) / 3 - Ii(t) / 11) - Ii(t) / ti),\n",
    "    g4'(t) = alpha / 26 / 3 * (g4(t)-1) * (h2(t) - h3(t)) / td,\n",
    "    y(t) = G(t)\n",
    ")"
   ]
  },
  {
   "cell_type": "code",
   "execution_count": 8,
   "id": "5481526f",
   "metadata": {},
   "outputs": [
    {
     "name": "stdout",
     "output_type": "stream",
     "text": [
      "Dict{Nemo.fmpq_mpoly, Bool}(alpha => 0, Um => 0, Ub => 1, E => 0, Vi => 0, g4 => 1, g2 => 1, C1 => 0, Vp => 0, td => 1, U0 => 0, G => 1, h1 => 1, tp => 0, Vg => 0, ti => 0, Rg => 1, g3 => 1, h3 => 1, C2 => 0, beta => 1, g1 => 1, Ii => 0, Ip => 1, h2 => 1)"
     ]
    }
   ],
   "source": [
    "print(assess_local_identifiability(ode))"
   ]
  },
  {
   "cell_type": "code",
   "execution_count": 9,
   "id": "faf02634",
   "metadata": {},
   "outputs": [
    {
     "name": "stdout",
     "output_type": "stream",
     "text": [
      "Dict{Nemo.fmpq_mpoly, Bool}(C1 => 0, Vp => 0, td => 1, G => 1, h1 => 1, g2 => 1, tp => 1, Vg => 0, ti => 1, Rg => 1, U0 => 0, g3 => 1, h3 => 1, C2 => 0, beta => 1, Ip => 1, Ii => 1, h2 => 1, g1 => 1, alpha => 0, Um => 0, Ub => 1, E => 0, Vi => 0, g4 => 1)"
     ]
    }
   ],
   "source": [
    "print(assess_local_identifiability(ode2))"
   ]
  },
  {
   "cell_type": "code",
   "execution_count": 10,
   "id": "16bb36a1",
   "metadata": {},
   "outputs": [
    {
     "name": "stdout",
     "output_type": "stream",
     "text": [
      "Dict{Nemo.fmpq_mpoly, Bool}(Vi => 0, g4 => 1, Ii => 0, Um => 0, alpha => 1, Ub => 1, E => 0, td => 1, U0 => 0, G => 1, C1 => 0, Vg => 0, ti => 0, Rg => 1, h1 => 1, g2 => 1, tp => 0, beta => 1, h2 => 1, h3 => 1, g1 => 1, g3 => 1, Ip => 1, C2 => 0)"
     ]
    }
   ],
   "source": [
    "print(assess_local_identifiability(ode3))"
   ]
  },
  {
   "cell_type": "code",
   "execution_count": 11,
   "id": "1e4107a0",
   "metadata": {},
   "outputs": [
    {
     "name": "stdout",
     "output_type": "stream",
     "text": [
      "Dict{Nemo.fmpq_mpoly, Bool}(g2 => 1, h1 => 1, tp => 1, beta => 1, h3 => 1, g1 => 1, g3 => 1, C2 => 0, U0 => 0, h2 => 1, g4 => 1, Ip => 1, Ii => 1, alpha => 1, Um => 0, Ub => 1, E => 1, td => 1, G => 1, ti => 1, C1 => 0, Vg => 0, Rg => 1)"
     ]
    }
   ],
   "source": [
    "print(assess_local_identifiability(ode4))"
   ]
  },
  {
   "cell_type": "code",
   "execution_count": 12,
   "id": "258e044f",
   "metadata": {},
   "outputs": [
    {
     "name": "stdout",
     "output_type": "stream",
     "text": [
      "Dict{Nemo.fmpq_mpoly, Bool}(Um => 1, alpha => 1, Ub => 1, E => 1, ti => 1, Rg => 1, C1 => 1, beta => 1, h1 => 1, g1 => 1, g2 => 1, U0 => 1, tp => 1, h2 => 1, h3 => 1, g3 => 1, g4 => 1, C2 => 1, td => 1, Ip => 1, Ii => 1, G => 1)"
     ]
    }
   ],
   "source": [
    "print(assess_local_identifiability(ode5))"
   ]
  },
  {
   "cell_type": "code",
   "execution_count": 13,
   "id": "aea9ca8b-d87f-4e7a-b1b1-303b0b100d14",
   "metadata": {},
   "outputs": [
    {
     "name": "stderr",
     "output_type": "stream",
     "text": [
      "┌ Info: Summary of the model:\n",
      "└ @ StructuralIdentifiability /home/jovyan/.julia/packages/StructuralIdentifiability/pKyok/src/ODE.jl:303\n",
      "┌ Info: State variables: w, v\n",
      "└ @ StructuralIdentifiability /home/jovyan/.julia/packages/StructuralIdentifiability/pKyok/src/ODE.jl:304\n",
      "┌ Info: Parameters: I_ext, a, b, tau\n",
      "└ @ StructuralIdentifiability /home/jovyan/.julia/packages/StructuralIdentifiability/pKyok/src/ODE.jl:305\n",
      "┌ Info: Inputs: \n",
      "└ @ StructuralIdentifiability /home/jovyan/.julia/packages/StructuralIdentifiability/pKyok/src/ODE.jl:306\n",
      "┌ Info: Outputs: y\n",
      "└ @ StructuralIdentifiability /home/jovyan/.julia/packages/StructuralIdentifiability/pKyok/src/ODE.jl:307\n"
     ]
    },
    {
     "data": {
      "text/plain": [
       "v'(t) = I_ext - w(t) - v(t)^3 + v(t)\n",
       "w'(t) = (-w(t)*b - a + v(t))//tau\n",
       "y(t) = v(t)\n"
      ]
     },
     "execution_count": 13,
     "metadata": {},
     "output_type": "execute_result"
    }
   ],
   "source": [
    "ode_fhn = @ODEmodel(\n",
    "    v'(t) = v - v*v*v - w + I_ext,\n",
    "    w'(t) = (v - a - b*w)/tau,\n",
    "    y(t) = v(t)\n",
    ")"
   ]
  },
  {
   "cell_type": "code",
   "execution_count": 14,
   "id": "b99bdba4-c6c6-4e1e-b1e9-e2fe0f18a652",
   "metadata": {},
   "outputs": [
    {
     "name": "stderr",
     "output_type": "stream",
     "text": [
      "┌ Info: Summary of the model:\n",
      "└ @ StructuralIdentifiability /home/jovyan/.julia/packages/StructuralIdentifiability/pKyok/src/ODE.jl:303\n",
      "┌ Info: State variables: w, v\n",
      "└ @ StructuralIdentifiability /home/jovyan/.julia/packages/StructuralIdentifiability/pKyok/src/ODE.jl:304\n",
      "┌ Info: Parameters: a, b, tau\n",
      "└ @ StructuralIdentifiability /home/jovyan/.julia/packages/StructuralIdentifiability/pKyok/src/ODE.jl:305\n",
      "┌ Info: Inputs: \n",
      "└ @ StructuralIdentifiability /home/jovyan/.julia/packages/StructuralIdentifiability/pKyok/src/ODE.jl:306\n",
      "┌ Info: Outputs: y\n",
      "└ @ StructuralIdentifiability /home/jovyan/.julia/packages/StructuralIdentifiability/pKyok/src/ODE.jl:307\n"
     ]
    },
    {
     "data": {
      "text/plain": [
       "v'(t) = -w(t) - v(t)^3 + v(t) + 23//100\n",
       "w'(t) = (-a - w(t)*b + v(t))//tau\n",
       "y(t) = v(t)\n"
      ]
     },
     "execution_count": 14,
     "metadata": {},
     "output_type": "execute_result"
    }
   ],
   "source": [
    "ode_fhn0 = @ODEmodel(\n",
    "    v'(t) = v - v*v*v - w + (23/100),\n",
    "    w'(t) = (v - a - b*w)/tau,\n",
    "    y(t) = v(t)\n",
    ")"
   ]
  },
  {
   "cell_type": "code",
   "execution_count": 15,
   "id": "d5608570-021d-4d63-84e2-bbd034f90a7f",
   "metadata": {},
   "outputs": [
    {
     "name": "stderr",
     "output_type": "stream",
     "text": [
      "┌ Info: Summary of the model:\n",
      "└ @ StructuralIdentifiability /home/jovyan/.julia/packages/StructuralIdentifiability/pKyok/src/ODE.jl:303\n",
      "┌ Info: State variables: w, v\n",
      "└ @ StructuralIdentifiability /home/jovyan/.julia/packages/StructuralIdentifiability/pKyok/src/ODE.jl:304\n",
      "┌ Info: Parameters: I_ext, b, tau\n",
      "└ @ StructuralIdentifiability /home/jovyan/.julia/packages/StructuralIdentifiability/pKyok/src/ODE.jl:305\n",
      "┌ Info: Inputs: \n",
      "└ @ StructuralIdentifiability /home/jovyan/.julia/packages/StructuralIdentifiability/pKyok/src/ODE.jl:306\n",
      "┌ Info: Outputs: y\n",
      "└ @ StructuralIdentifiability /home/jovyan/.julia/packages/StructuralIdentifiability/pKyok/src/ODE.jl:307\n"
     ]
    },
    {
     "data": {
      "text/plain": [
       "v'(t) = I_ext - w(t) - v(t)^3 + v(t)\n",
       "w'(t) = (-w(t)*b + v(t) + 3//10)//tau\n",
       "y(t) = v(t)\n"
      ]
     },
     "execution_count": 15,
     "metadata": {},
     "output_type": "execute_result"
    }
   ],
   "source": [
    "ode_fhn1 = @ODEmodel(\n",
    "    v'(t) = v - v*v*v - w + I_ext,\n",
    "    w'(t) = (v + 3/10 - b*w)/tau,\n",
    "    y(t) = v(t)\n",
    ")"
   ]
  },
  {
   "cell_type": "code",
   "execution_count": 16,
   "id": "3e1de781",
   "metadata": {},
   "outputs": [
    {
     "name": "stderr",
     "output_type": "stream",
     "text": [
      "┌ Info: Summary of the model:\n",
      "└ @ StructuralIdentifiability /home/jovyan/.julia/packages/StructuralIdentifiability/pKyok/src/ODE.jl:303\n",
      "┌ Info: State variables: w, v\n",
      "└ @ StructuralIdentifiability /home/jovyan/.julia/packages/StructuralIdentifiability/pKyok/src/ODE.jl:304\n",
      "┌ Info: Parameters: I_ext, a, b, tau\n",
      "└ @ StructuralIdentifiability /home/jovyan/.julia/packages/StructuralIdentifiability/pKyok/src/ODE.jl:305\n",
      "┌ Info: Inputs: \n",
      "└ @ StructuralIdentifiability /home/jovyan/.julia/packages/StructuralIdentifiability/pKyok/src/ODE.jl:306\n",
      "┌ Info: Outputs: y1, y2\n",
      "└ @ StructuralIdentifiability /home/jovyan/.julia/packages/StructuralIdentifiability/pKyok/src/ODE.jl:307\n"
     ]
    },
    {
     "data": {
      "text/plain": [
       "w'(t) = (-w(t)*b - a + v(t))//tau\n",
       "v'(t) = I_ext - w(t) - v(t)^3 + v(t)\n",
       "y1(t) = v(t)\n",
       "y2(t) = w(t)\n"
      ]
     },
     "execution_count": 16,
     "metadata": {},
     "output_type": "execute_result"
    }
   ],
   "source": [
    "ode_fhn2 = @ODEmodel(\n",
    "    v'(t) = v - v*v*v - w + I_ext,\n",
    "    w'(t) = (v - a - b*w)/tau,\n",
    "    y1(t) = v(t),\n",
    "    y2(t) = w(t),\n",
    ")"
   ]
  },
  {
   "cell_type": "code",
   "execution_count": 17,
   "id": "5c6dee33-e8a8-46e6-9adc-020333f1214c",
   "metadata": {},
   "outputs": [
    {
     "name": "stdout",
     "output_type": "stream",
     "text": [
      "Dict{Nemo.fmpq_mpoly, Bool}(v => 1, I_ext => 0, a => 0, b => 1, tau => 1, w => 0)\n",
      "Dict{Any, Symbol}(I_ext => :nonidentifiable, a => :nonidentifiable, b => :globally, tau => :globally)"
     ]
    },
    {
     "name": "stderr",
     "output_type": "stream",
     "text": [
      "┌ Info: Assessing local identifiability\n",
      "└ @ StructuralIdentifiability /home/jovyan/.julia/packages/StructuralIdentifiability/pKyok/src/StructuralIdentifiability.jl:99\n",
      "┌ Info: Local identifiability assessed in 0.0067838 seconds\n",
      "└ @ StructuralIdentifiability /home/jovyan/.julia/packages/StructuralIdentifiability/pKyok/src/StructuralIdentifiability.jl:101\n",
      "┌ Info: Assessing global identifiability\n",
      "└ @ StructuralIdentifiability /home/jovyan/.julia/packages/StructuralIdentifiability/pKyok/src/StructuralIdentifiability.jl:117\n",
      "┌ Info: Computing IO-equations\n",
      "└ @ StructuralIdentifiability /home/jovyan/.julia/packages/StructuralIdentifiability/pKyok/src/global_identifiability.jl:200\n",
      "┌ Info: Computed in 8.0738665 seconds\n",
      "│   :ioeq_time = ioeq_time\n",
      "│   ioeq_time = 8.0738665\n",
      "└ @ StructuralIdentifiability /home/jovyan/.julia/packages/StructuralIdentifiability/pKyok/src/global_identifiability.jl:203\n",
      "┌ Info: Computing Wronskians\n",
      "└ @ StructuralIdentifiability /home/jovyan/.julia/packages/StructuralIdentifiability/pKyok/src/global_identifiability.jl:206\n",
      "┌ Info: Computed in 3.5178731 seconds\n",
      "│   :wrnsk_time = wrnsk_time\n",
      "│   wrnsk_time = 3.5178731\n",
      "└ @ StructuralIdentifiability /home/jovyan/.julia/packages/StructuralIdentifiability/pKyok/src/global_identifiability.jl:208\n",
      "┌ Info: Dimensions of the wronskians [4]\n",
      "└ @ StructuralIdentifiability /home/jovyan/.julia/packages/StructuralIdentifiability/pKyok/src/global_identifiability.jl:212\n",
      "┌ Info: Ranks of the Wronskians computed in 0.0293537 seconds\n",
      "│   :rank_time = rank_time\n",
      "│   rank_times = 0.0293537\n",
      "└ @ StructuralIdentifiability /home/jovyan/.julia/packages/StructuralIdentifiability/pKyok/src/global_identifiability.jl:217\n",
      "┌ Info: Assessing global identifiability using the coefficients of the io-equations\n",
      "└ @ StructuralIdentifiability /home/jovyan/.julia/packages/StructuralIdentifiability/pKyok/src/global_identifiability.jl:224\n",
      "┌ Info: Computed in 2.1814817 seconds\n",
      "│   :check_time = check_time\n",
      "│   check_time = 2.1814817\n",
      "└ @ StructuralIdentifiability /home/jovyan/.julia/packages/StructuralIdentifiability/pKyok/src/global_identifiability.jl:226\n",
      "┌ Info: Global identifiability assessed in 14.1512683 seconds\n",
      "└ @ StructuralIdentifiability /home/jovyan/.julia/packages/StructuralIdentifiability/pKyok/src/StructuralIdentifiability.jl:119\n"
     ]
    }
   ],
   "source": [
    "print(assess_local_identifiability(ode_fhn))\n",
    "print(\"\\n\")\n",
    "print(assess_identifiability(ode_fhn))"
   ]
  },
  {
   "cell_type": "code",
   "execution_count": 18,
   "id": "8a828890-5a67-44b7-a492-d59a1d78ac1c",
   "metadata": {},
   "outputs": [
    {
     "name": "stdout",
     "output_type": "stream",
     "text": [
      "Dict{Nemo.fmpq_mpoly, Bool}(a => 1, b => 1, tau => 1, v => 1, w => 1)\n",
      "Dict{Any, Symbol}(a => :globally, b => :globally, tau => :globally)"
     ]
    },
    {
     "name": "stderr",
     "output_type": "stream",
     "text": [
      "┌ Info: Assessing local identifiability\n",
      "└ @ StructuralIdentifiability /home/jovyan/.julia/packages/StructuralIdentifiability/pKyok/src/StructuralIdentifiability.jl:99\n",
      "┌ Info: Local identifiability assessed in 0.0037817 seconds\n",
      "└ @ StructuralIdentifiability /home/jovyan/.julia/packages/StructuralIdentifiability/pKyok/src/StructuralIdentifiability.jl:101\n",
      "┌ Info: Assessing global identifiability\n",
      "└ @ StructuralIdentifiability /home/jovyan/.julia/packages/StructuralIdentifiability/pKyok/src/StructuralIdentifiability.jl:117\n",
      "┌ Info: Computing IO-equations\n",
      "└ @ StructuralIdentifiability /home/jovyan/.julia/packages/StructuralIdentifiability/pKyok/src/global_identifiability.jl:200\n",
      "┌ Info: Computed in 0.0025861 seconds\n",
      "│   :ioeq_time = ioeq_time\n",
      "│   ioeq_time = 0.0025861\n",
      "└ @ StructuralIdentifiability /home/jovyan/.julia/packages/StructuralIdentifiability/pKyok/src/global_identifiability.jl:203\n",
      "┌ Info: Computing Wronskians\n",
      "└ @ StructuralIdentifiability /home/jovyan/.julia/packages/StructuralIdentifiability/pKyok/src/global_identifiability.jl:206\n",
      "┌ Info: Computed in 0.0026059 seconds\n",
      "│   :wrnsk_time = wrnsk_time\n",
      "│   wrnsk_time = 0.0026059\n",
      "└ @ StructuralIdentifiability /home/jovyan/.julia/packages/StructuralIdentifiability/pKyok/src/global_identifiability.jl:208\n",
      "┌ Info: Dimensions of the wronskians [4]\n",
      "└ @ StructuralIdentifiability /home/jovyan/.julia/packages/StructuralIdentifiability/pKyok/src/global_identifiability.jl:212\n",
      "┌ Info: Ranks of the Wronskians computed in 1.93e-5 seconds\n",
      "│   :rank_time = rank_time\n",
      "│   rank_times = 1.93e-5\n",
      "└ @ StructuralIdentifiability /home/jovyan/.julia/packages/StructuralIdentifiability/pKyok/src/global_identifiability.jl:217\n",
      "┌ Info: Assessing global identifiability using the coefficients of the io-equations\n",
      "└ @ StructuralIdentifiability /home/jovyan/.julia/packages/StructuralIdentifiability/pKyok/src/global_identifiability.jl:224\n",
      "┌ Info: Computed in 0.0020772 seconds\n",
      "│   :check_time = check_time\n",
      "│   check_time = 0.0020772\n",
      "└ @ StructuralIdentifiability /home/jovyan/.julia/packages/StructuralIdentifiability/pKyok/src/global_identifiability.jl:226\n",
      "┌ Info: Global identifiability assessed in 0.0077026 seconds\n",
      "└ @ StructuralIdentifiability /home/jovyan/.julia/packages/StructuralIdentifiability/pKyok/src/StructuralIdentifiability.jl:119\n"
     ]
    }
   ],
   "source": [
    "print(assess_local_identifiability(ode_fhn0))\n",
    "print(\"\\n\")\n",
    "print(assess_identifiability(ode_fhn0))"
   ]
  },
  {
   "cell_type": "code",
   "execution_count": 19,
   "id": "f886b676-022a-436f-bbbd-d0f13431f7bc",
   "metadata": {},
   "outputs": [
    {
     "name": "stdout",
     "output_type": "stream",
     "text": [
      "Dict{Nemo.fmpq_mpoly, Bool}(I_ext => 1, b => 1, tau => 1, v => 1, w => 1)\n",
      "Dict{Any, Symbol}(I_ext => :globally, b => :globally, tau => :globally)"
     ]
    },
    {
     "name": "stderr",
     "output_type": "stream",
     "text": [
      "┌ Info: Assessing local identifiability\n",
      "└ @ StructuralIdentifiability /home/jovyan/.julia/packages/StructuralIdentifiability/pKyok/src/StructuralIdentifiability.jl:99\n",
      "┌ Info: Local identifiability assessed in 0.0047557 seconds\n",
      "└ @ StructuralIdentifiability /home/jovyan/.julia/packages/StructuralIdentifiability/pKyok/src/StructuralIdentifiability.jl:101\n",
      "┌ Info: Assessing global identifiability\n",
      "└ @ StructuralIdentifiability /home/jovyan/.julia/packages/StructuralIdentifiability/pKyok/src/StructuralIdentifiability.jl:117\n",
      "┌ Info: Computing IO-equations\n",
      "└ @ StructuralIdentifiability /home/jovyan/.julia/packages/StructuralIdentifiability/pKyok/src/global_identifiability.jl:200\n",
      "┌ Info: Computed in 0.0021606 seconds\n",
      "│   :ioeq_time = ioeq_time\n",
      "│   ioeq_time = 0.0021606\n",
      "└ @ StructuralIdentifiability /home/jovyan/.julia/packages/StructuralIdentifiability/pKyok/src/global_identifiability.jl:203\n",
      "┌ Info: Computing Wronskians\n",
      "└ @ StructuralIdentifiability /home/jovyan/.julia/packages/StructuralIdentifiability/pKyok/src/global_identifiability.jl:206\n",
      "┌ Info: Computed in 0.00224 seconds\n",
      "│   :wrnsk_time = wrnsk_time\n",
      "│   wrnsk_time = 0.00224\n",
      "└ @ StructuralIdentifiability /home/jovyan/.julia/packages/StructuralIdentifiability/pKyok/src/global_identifiability.jl:208\n",
      "┌ Info: Dimensions of the wronskians [4]\n",
      "└ @ StructuralIdentifiability /home/jovyan/.julia/packages/StructuralIdentifiability/pKyok/src/global_identifiability.jl:212\n",
      "┌ Info: Ranks of the Wronskians computed in 2.18e-5 seconds\n",
      "│   :rank_time = rank_time\n",
      "│   rank_times = 2.18e-5\n",
      "└ @ StructuralIdentifiability /home/jovyan/.julia/packages/StructuralIdentifiability/pKyok/src/global_identifiability.jl:217\n",
      "┌ Info: Assessing global identifiability using the coefficients of the io-equations\n",
      "└ @ StructuralIdentifiability /home/jovyan/.julia/packages/StructuralIdentifiability/pKyok/src/global_identifiability.jl:224\n",
      "┌ Info: Computed in 0.0224066 seconds\n",
      "│   :check_time = check_time\n",
      "│   check_time = 0.0224066\n",
      "└ @ StructuralIdentifiability /home/jovyan/.julia/packages/StructuralIdentifiability/pKyok/src/global_identifiability.jl:226\n",
      "┌ Info: Global identifiability assessed in 0.0273146 seconds\n",
      "└ @ StructuralIdentifiability /home/jovyan/.julia/packages/StructuralIdentifiability/pKyok/src/StructuralIdentifiability.jl:119\n"
     ]
    }
   ],
   "source": [
    "print(assess_local_identifiability(ode_fhn1))\n",
    "print(\"\\n\")\n",
    "print(assess_identifiability(ode_fhn1))"
   ]
  },
  {
   "cell_type": "code",
   "execution_count": 20,
   "id": "cbd47ade-a502-4d80-9383-546e25c9637d",
   "metadata": {},
   "outputs": [
    {
     "name": "stdout",
     "output_type": "stream",
     "text": [
      "Dict{Nemo.fmpq_mpoly, Bool}(I_ext => 1, a => 1, b => 1, tau => 1, w => 1, v => 1)\n",
      "Dict{Any, Symbol}(I_ext => :globally, a => :globally, b => :globally, tau => :globally)"
     ]
    },
    {
     "name": "stderr",
     "output_type": "stream",
     "text": [
      "┌ Info: Assessing local identifiability\n",
      "└ @ StructuralIdentifiability /home/jovyan/.julia/packages/StructuralIdentifiability/pKyok/src/StructuralIdentifiability.jl:99\n",
      "┌ Info: Local identifiability assessed in 0.0067913 seconds\n",
      "└ @ StructuralIdentifiability /home/jovyan/.julia/packages/StructuralIdentifiability/pKyok/src/StructuralIdentifiability.jl:101\n",
      "┌ Info: Assessing global identifiability\n",
      "└ @ StructuralIdentifiability /home/jovyan/.julia/packages/StructuralIdentifiability/pKyok/src/StructuralIdentifiability.jl:117\n",
      "┌ Info: Computing IO-equations\n",
      "└ @ StructuralIdentifiability /home/jovyan/.julia/packages/StructuralIdentifiability/pKyok/src/global_identifiability.jl:200\n",
      "┌ Info: Computed in 0.6011475 seconds\n",
      "│   :ioeq_time = ioeq_time\n",
      "│   ioeq_time = 0.6011475\n",
      "└ @ StructuralIdentifiability /home/jovyan/.julia/packages/StructuralIdentifiability/pKyok/src/global_identifiability.jl:203\n",
      "┌ Info: Computing Wronskians\n",
      "└ @ StructuralIdentifiability /home/jovyan/.julia/packages/StructuralIdentifiability/pKyok/src/global_identifiability.jl:206\n",
      "┌ Info: Computed in 0.00968 seconds\n",
      "│   :wrnsk_time = wrnsk_time\n",
      "│   wrnsk_time = 0.00968\n",
      "└ @ StructuralIdentifiability /home/jovyan/.julia/packages/StructuralIdentifiability/pKyok/src/global_identifiability.jl:208\n",
      "┌ Info: Dimensions of the wronskians [4, 2]\n",
      "└ @ StructuralIdentifiability /home/jovyan/.julia/packages/StructuralIdentifiability/pKyok/src/global_identifiability.jl:212\n",
      "┌ Info: Ranks of the Wronskians computed in 2.34e-5 seconds\n",
      "│   :rank_time = rank_time\n",
      "│   rank_times = 2.34e-5\n",
      "└ @ StructuralIdentifiability /home/jovyan/.julia/packages/StructuralIdentifiability/pKyok/src/global_identifiability.jl:217\n",
      "┌ Info: Assessing global identifiability using the coefficients of the io-equations\n",
      "└ @ StructuralIdentifiability /home/jovyan/.julia/packages/StructuralIdentifiability/pKyok/src/global_identifiability.jl:224\n",
      "┌ Info: Computed in 0.0142328 seconds\n",
      "│   :check_time = check_time\n",
      "│   check_time = 0.0142328\n",
      "└ @ StructuralIdentifiability /home/jovyan/.julia/packages/StructuralIdentifiability/pKyok/src/global_identifiability.jl:226\n",
      "┌ Info: Global identifiability assessed in 0.6256074 seconds\n",
      "└ @ StructuralIdentifiability /home/jovyan/.julia/packages/StructuralIdentifiability/pKyok/src/StructuralIdentifiability.jl:119\n"
     ]
    }
   ],
   "source": [
    "print(assess_local_identifiability(ode_fhn2))\n",
    "print(\"\\n\")\n",
    "print(assess_identifiability(ode_fhn2))"
   ]
  },
  {
   "cell_type": "code",
   "execution_count": null,
   "id": "fac8e609-d9a8-47a8-81d4-cccdb06d5cb4",
   "metadata": {},
   "outputs": [],
   "source": []
  },
  {
   "cell_type": "code",
   "execution_count": null,
   "id": "07b0e743-ff4a-4677-a8d4-303cb0e0095d",
   "metadata": {},
   "outputs": [],
   "source": []
  }
 ],
 "metadata": {
  "kernelspec": {
   "display_name": "Julia 1.7.2",
   "language": "julia",
   "name": "julia-1.7"
  },
  "language_info": {
   "file_extension": ".jl",
   "mimetype": "application/julia",
   "name": "julia",
   "version": "1.7.2"
  }
 },
 "nbformat": 4,
 "nbformat_minor": 5
}
