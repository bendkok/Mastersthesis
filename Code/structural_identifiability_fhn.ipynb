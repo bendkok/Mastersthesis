{
 "cells": [
  {
   "cell_type": "code",
   "execution_count": 2,
   "id": "eb20974e",
   "metadata": {},
   "outputs": [],
   "source": [
    "### For first-time users, the StructuralIdentifiability package can be installed by the following command\n",
    "\n",
    "#using Pkg\n",
    "#Pkg.add(\"StructuralIdentifiability\")\n"
   ]
  },
  {
   "cell_type": "code",
   "execution_count": 5,
   "id": "fdfe63b2",
   "metadata": {},
   "outputs": [],
   "source": [
    "using StructuralIdentifiability"
   ]
  },
  {
   "cell_type": "code",
   "execution_count": 3,
   "id": "c04a2e7d-a7c6-4688-b229-bfe0692bd86d",
   "metadata": {},
   "outputs": [
    {
     "data": {
      "text/plain": [
       "LogLevel(1)"
      ]
     },
     "execution_count": 3,
     "metadata": {},
     "output_type": "execute_result"
    }
   ],
   "source": [
    "#if you want to supress the Info blocks\n",
    "using Logging\n",
    "Logging.disable_logging(Logging.Info)"
   ]
  },
  {
   "cell_type": "code",
   "execution_count": 4,
   "id": "aea9ca8b-d87f-4e7a-b1b1-303b0b100d14",
   "metadata": {
    "tags": []
   },
   "outputs": [
    {
     "data": {
      "text/plain": [
       "v'(t) = I_ext - w(t) - v(t)^3 + v(t)\n",
       "w'(t) = (-w(t)*b - a + v(t))//tau\n",
       "y(t) = v(t)\n"
      ]
     },
     "execution_count": 4,
     "metadata": {},
     "output_type": "execute_result"
    }
   ],
   "source": [
    "#v known, no parameters fixed\n",
    "ode_fhn = @ODEmodel(\n",
    "    v'(t) = v - v*v*v - w + I_ext,\n",
    "    w'(t) = (v - a - b*w)/tau,\n",
    "    y(t) = v(t)\n",
    ")"
   ]
  },
  {
   "cell_type": "code",
   "execution_count": 5,
   "id": "b99bdba4-c6c6-4e1e-b1e9-e2fe0f18a652",
   "metadata": {},
   "outputs": [
    {
     "data": {
      "text/plain": [
       "v'(t) = -w(t) - v(t)^3 + v(t) + 23//100\n",
       "w'(t) = (-a - w(t)*b + v(t))//tau\n",
       "y(t) = v(t)\n"
      ]
     },
     "execution_count": 5,
     "metadata": {},
     "output_type": "execute_result"
    }
   ],
   "source": [
    "#v known, I_ext fixed\n",
    "ode_fhn0 = @ODEmodel(\n",
    "    v'(t) = v - v*v*v - w + (23/100),\n",
    "    w'(t) = (v - a - b*w)/tau,\n",
    "    y(t) = v(t)\n",
    ")"
   ]
  },
  {
   "cell_type": "code",
   "execution_count": 6,
   "id": "d5608570-021d-4d63-84e2-bbd034f90a7f",
   "metadata": {},
   "outputs": [
    {
     "data": {
      "text/plain": [
       "v'(t) = I_ext - w(t) - v(t)^3 + v(t)\n",
       "w'(t) = (-w(t)*b + v(t) + 3//10)//tau\n",
       "y(t) = v(t)\n"
      ]
     },
     "execution_count": 6,
     "metadata": {},
     "output_type": "execute_result"
    }
   ],
   "source": [
    "#v known, a fixed\n",
    "ode_fhn1 = @ODEmodel(\n",
    "    v'(t) = v - v*v*v - w + I_ext,\n",
    "    w'(t) = (v + 3/10 - b*w)/tau,\n",
    "    y(t) = v(t)\n",
    ")"
   ]
  },
  {
   "cell_type": "code",
   "execution_count": 7,
   "id": "3e1de781",
   "metadata": {},
   "outputs": [
    {
     "data": {
      "text/plain": [
       "w'(t) = (-w(t)*b - a + v(t))//tau\n",
       "v'(t) = I_ext - w(t) - v(t)^3 + v(t)\n",
       "y1(t) = v(t)\n",
       "y2(t) = w(t)\n"
      ]
     },
     "execution_count": 7,
     "metadata": {},
     "output_type": "execute_result"
    }
   ],
   "source": [
    "#v,w known, no parameters fixed\n",
    "ode_fhn2 = @ODEmodel(\n",
    "    v'(t) = v - v*v*v - w + I_ext,\n",
    "    w'(t) = (v - a - b*w)/tau,\n",
    "    y1(t) = v(t),\n",
    "    y2(t) = w(t),\n",
    ")"
   ]
  },
  {
   "cell_type": "code",
   "execution_count": 8,
   "id": "309c45ae-3b4e-4d0b-8f4c-4e2cfaa0fc6f",
   "metadata": {},
   "outputs": [
    {
     "data": {
      "text/plain": [
       "v'(t) = I_ext - w(t) - v(t)^3 + v(t)\n",
       "w'(t) = (-w(t)*b - a + v(t))//tau\n",
       "y(t) = w(t)\n"
      ]
     },
     "execution_count": 8,
     "metadata": {},
     "output_type": "execute_result"
    }
   ],
   "source": [
    "#w known, no parameters fixed\n",
    "ode_fhn3 = @ODEmodel(\n",
    "    v'(t) = v - v*v*v - w + I_ext,\n",
    "    w'(t) = (v - a - b*w)/tau,\n",
    "    y(t) = w(t),\n",
    ")"
   ]
  },
  {
   "cell_type": "code",
   "execution_count": 9,
   "id": "5c6dee33-e8a8-46e6-9adc-020333f1214c",
   "metadata": {},
   "outputs": [
    {
     "name": "stdout",
     "output_type": "stream",
     "text": [
      "Dict{Nemo.fmpq_mpoly, Bool}(v => 1, I_ext => 0, a => 0, b => 1, tau => 1, w => 0)\n",
      "Dict{Any, Symbol}(I_ext => :nonidentifiable, a => :nonidentifiable, b => :globally, tau => :globally)"
     ]
    }
   ],
   "source": [
    "print(assess_local_identifiability(ode_fhn))\n",
    "print(\"\\n\")\n",
    "print(assess_identifiability(ode_fhn))"
   ]
  },
  {
   "cell_type": "code",
   "execution_count": 10,
   "id": "8a828890-5a67-44b7-a492-d59a1d78ac1c",
   "metadata": {},
   "outputs": [
    {
     "name": "stdout",
     "output_type": "stream",
     "text": [
      "Dict{Nemo.fmpq_mpoly, Bool}(a => 1, b => 1, tau => 1, v => 1, w => 1)\n",
      "Dict{Any, Symbol}(a => :globally, b => :globally, tau => :globally)"
     ]
    }
   ],
   "source": [
    "print(assess_local_identifiability(ode_fhn0))\n",
    "print(\"\\n\")\n",
    "print(assess_identifiability(ode_fhn0))"
   ]
  },
  {
   "cell_type": "code",
   "execution_count": 11,
   "id": "f886b676-022a-436f-bbbd-d0f13431f7bc",
   "metadata": {},
   "outputs": [
    {
     "name": "stdout",
     "output_type": "stream",
     "text": [
      "Dict{Nemo.fmpq_mpoly, Bool}(I_ext => 1, b => 1, tau => 1, v => 1, w => 1)\n",
      "Dict{Any, Symbol}(I_ext => :globally, b => :globally, tau => :globally)"
     ]
    }
   ],
   "source": [
    "print(assess_local_identifiability(ode_fhn1))\n",
    "print(\"\\n\")\n",
    "print(assess_identifiability(ode_fhn1))"
   ]
  },
  {
   "cell_type": "code",
   "execution_count": 12,
   "id": "cbd47ade-a502-4d80-9383-546e25c9637d",
   "metadata": {},
   "outputs": [
    {
     "name": "stdout",
     "output_type": "stream",
     "text": [
      "Dict{Nemo.fmpq_mpoly, Bool}(I_ext => 1, a => 1, b => 1, tau => 1, w => 1, v => 1)\n",
      "Dict{Any, Symbol}(I_ext => :globally, a => :globally, b => :globally, tau => :globally)"
     ]
    }
   ],
   "source": [
    "print(assess_local_identifiability(ode_fhn2))\n",
    "print(\"\\n\")\n",
    "print(assess_identifiability(ode_fhn2))"
   ]
  },
  {
   "cell_type": "code",
   "execution_count": 13,
   "id": "fac8e609-d9a8-47a8-81d4-cccdb06d5cb4",
   "metadata": {},
   "outputs": [
    {
     "name": "stdout",
     "output_type": "stream",
     "text": [
      "Dict{Nemo.fmpq_mpoly, Bool}(v => 1, I_ext => 1, a => 1, b => 1, tau => 1, w => 1)\n",
      "Dict{Any, Symbol}(I_ext => :globally, a => :globally, b => :globally, tau => :globally)"
     ]
    }
   ],
   "source": [
    "print(assess_local_identifiability(ode_fhn3))\n",
    "print(\"\\n\")\n",
    "print(assess_identifiability(ode_fhn3))"
   ]
  },
  {
   "cell_type": "code",
   "execution_count": null,
   "id": "07b0e743-ff4a-4677-a8d4-303cb0e0095d",
   "metadata": {},
   "outputs": [],
   "source": []
  },
  {
   "cell_type": "code",
   "execution_count": null,
   "id": "17e7142c-0af9-49a3-8f83-8556540c56ac",
   "metadata": {},
   "outputs": [],
   "source": []
  }
 ],
 "metadata": {
  "kernelspec": {
   "display_name": "Julia 1.7.2",
   "language": "julia",
   "name": "julia-1.7"
  },
  "language_info": {
   "file_extension": ".jl",
   "mimetype": "application/julia",
   "name": "julia",
   "version": "1.7.2"
  }
 },
 "nbformat": 4,
 "nbformat_minor": 5
}
